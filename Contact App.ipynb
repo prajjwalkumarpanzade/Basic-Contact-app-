{
 "cells": [
  {
   "cell_type": "code",
   "execution_count": 1,
   "id": "f522dc22-b311-470c-8485-72839f986389",
   "metadata": {},
   "outputs": [],
   "source": [
    "import os \n",
    "def view_contacts():\n",
    "  file = open('/content/contacts.txt')\n",
    "  d=file.read()\n",
    "  file.close()\n",
    "  return d"
   ]
  },
  {
   "cell_type": "code",
   "execution_count": 2,
   "id": "8118e7a9-706f-4519-9a6b-9a37103dc263",
   "metadata": {},
   "outputs": [],
   "source": [
    "def add_contact():\n",
    "  file = open('contacts.txt','a')\n",
    "  name = input('Enter Name ')\n",
    "  email = input('Enter Email ')\n",
    "  number = input('Enter mobile number ')\n",
    "  file.write(str('\\n'+name+','+email+','+number))\n",
    "  file.close()"
   ]
  },
  {
   "cell_type": "code",
   "execution_count": 3,
   "id": "c6e0e737-b55a-4679-9b03-f4628f157442",
   "metadata": {},
   "outputs": [],
   "source": [
    "def update_contact():\n",
    "  data = view_contacts()\n",
    "  file = open('contacts.txt.txt','w')\n",
    "  name = input('Enter Name')\n",
    "  for i in data.split(\"\\n\"):\n",
    "    a = i.split(',')[0]\n",
    "    b = i.split(',')[1]\n",
    "    c = i.split(',')[2]\n",
    "      # print(a,b,c)\n",
    "    if a == name:\n",
    "      ip = input('update name = n update email = e update mobile number = m')\n",
    "      if ip == 'n':\n",
    "        new = data.replace(a,input('Enter New Name '))\n",
    "        # (newname)\n",
    "\n",
    "      elif ip == 'e':\n",
    "        new = data.replace(b,input('Enter new Email '))\n",
    "        # print(newemail)\n",
    "      \n",
    "\n",
    "      elif ip == 'm':\n",
    "        new = data.replace(c,input('Enter new mobile number '))\n",
    "        # print(newnumber)\n",
    "\n",
    "      else:\n",
    "        print(\"Enter valid choice\")\n",
    "  file.write(new)\n",
    "  file.close()"
   ]
  },
  {
   "cell_type": "code",
   "execution_count": 4,
   "id": "2ad42efa-78b7-4d2a-b25c-359d6652b41a",
   "metadata": {},
   "outputs": [
    {
     "ename": "FileNotFoundError",
     "evalue": "[Errno 2] No such file or directory: '/content/contacts.txt'",
     "output_type": "error",
     "traceback": [
      "\u001b[1;31m---------------------------------------------------------------------------\u001b[0m",
      "\u001b[1;31mFileNotFoundError\u001b[0m                         Traceback (most recent call last)",
      "Input \u001b[1;32mIn [4]\u001b[0m, in \u001b[0;36m<cell line: 1>\u001b[1;34m()\u001b[0m\n\u001b[1;32m----> 1\u001b[0m data \u001b[38;5;241m=\u001b[39m \u001b[43mview_contacts\u001b[49m\u001b[43m(\u001b[49m\u001b[43m)\u001b[49m\n\u001b[0;32m      2\u001b[0m \u001b[38;5;28mprint\u001b[39m(data)\n\u001b[0;32m      3\u001b[0m file \u001b[38;5;241m=\u001b[39m \u001b[38;5;28mopen\u001b[39m(\u001b[38;5;124m'\u001b[39m\u001b[38;5;124m/content/contacts.txt\u001b[39m\u001b[38;5;124m'\u001b[39m,\u001b[38;5;124m'\u001b[39m\u001b[38;5;124mw\u001b[39m\u001b[38;5;124m'\u001b[39m)\n",
      "Input \u001b[1;32mIn [1]\u001b[0m, in \u001b[0;36mview_contacts\u001b[1;34m()\u001b[0m\n\u001b[0;32m      2\u001b[0m \u001b[38;5;28;01mdef\u001b[39;00m \u001b[38;5;21mview_contacts\u001b[39m():\n\u001b[1;32m----> 3\u001b[0m   file \u001b[38;5;241m=\u001b[39m \u001b[38;5;28;43mopen\u001b[39;49m\u001b[43m(\u001b[49m\u001b[38;5;124;43m'\u001b[39;49m\u001b[38;5;124;43m/content/contacts.txt\u001b[39;49m\u001b[38;5;124;43m'\u001b[39;49m\u001b[43m)\u001b[49m\n\u001b[0;32m      4\u001b[0m   d\u001b[38;5;241m=\u001b[39mfile\u001b[38;5;241m.\u001b[39mread()\n\u001b[0;32m      5\u001b[0m   file\u001b[38;5;241m.\u001b[39mclose()\n",
      "\u001b[1;31mFileNotFoundError\u001b[0m: [Errno 2] No such file or directory: '/content/contacts.txt'"
     ]
    }
   ],
   "source": [
    "data = view_contacts()\n",
    "print(data)\n",
    "file = open('contacts.txt','w')\n",
    "name = input()\n",
    "n = ''\n",
    "for i in data.split('\\n'):\n",
    "  # print(i)\n",
    "  if i.split(',')[0] == name:\n",
    "    a = data.replace(i,n)\n",
    "    print(a,'=')\n",
    "file.write(a.strip())\n",
    "file.close()\n",
    "# print(a)\n"
   ]
  },
  {
   "cell_type": "code",
   "execution_count": null,
   "id": "f32f9dc6-08bd-4d88-8d41-dae448c4394d",
   "metadata": {},
   "outputs": [],
   "source": []
  }
 ],
 "metadata": {
  "kernelspec": {
   "display_name": "Python 3 (ipykernel)",
   "language": "python",
   "name": "python3"
  },
  "language_info": {
   "codemirror_mode": {
    "name": "ipython",
    "version": 3
   },
   "file_extension": ".py",
   "mimetype": "text/x-python",
   "name": "python",
   "nbconvert_exporter": "python",
   "pygments_lexer": "ipython3",
   "version": "3.8.4"
  }
 },
 "nbformat": 4,
 "nbformat_minor": 5
}
